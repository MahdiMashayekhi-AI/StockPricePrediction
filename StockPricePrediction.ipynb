{
 "cells": [
  {
   "cell_type": "markdown",
   "id": "c8a5a635",
   "metadata": {},
   "source": [
    "Created by <b>Mahdi Mashayekhi</b></br></br>\n",
    "Email : MahdiMashayekhi.ai@gmail.com</br>\n",
    "Github : https://github.com/MahdiMashayekhi-AI</br>\n",
    "Site : http://mahdimashayekhi.gigfa.com</br>\n",
    "YouTube : https://youtube.com/@MahdiMashayekhi</br>\n",
    "Twitter : https://twitter.com/Mashayekhi_AI</br>\n",
    "LinkedIn : https://www.linkedin.com/in/mahdimashayekhi/</br>"
   ]
  },
  {
   "cell_type": "code",
   "execution_count": null,
   "id": "5a47327f",
   "metadata": {},
   "outputs": [],
   "source": [
    "# Import Libraries\n",
    "import numpy as np\n",
    "import pandas as pd\n",
    "from sklearn import preprocessing\n",
    "from sklearn.model_selection import train_test_split\n",
    "from sklearn.linear_model import LinearRegression"
   ]
  },
  {
   "cell_type": "code",
   "execution_count": null,
   "id": "6cee5134",
   "metadata": {},
   "outputs": [],
   "source": [
    "# Data Preparation or EDA\n",
    "\n",
    "\n",
    "def prepare_data(df, forecast_col, forecast_out, test_size):\n",
    "    # creating new column called label with the last 5 rows are nan\n",
    "    label = df[forecast_col].shift(-forecast_out)\n",
    "    X = np.array(df[[forecast_col]])  # creating the feature array\n",
    "    X = preprocessing.scale(X)  # processing the feature array\n",
    "    # creating the column i want to use later in the predicting method\n",
    "    X_lately = X[-forecast_out:]\n",
    "    # X that will contain the training and testing\n",
    "    X = X[:-forecast_out]\n",
    "    label.dropna(inplace=True)  # dropping na values\n",
    "    y = np.array(label)                           # assigning Y\n",
    "    X_train, X_test, Y_train, Y_test = train_test_split(\n",
    "        X, y, test_size=test_size, random_state=0)  # cross validation\n",
    "\n",
    "    response = [X_train, X_test, Y_train, Y_test, X_lately]\n",
    "    return response"
   ]
  },
  {
   "cell_type": "code",
   "execution_count": null,
   "id": "7202514a",
   "metadata": {},
   "outputs": [],
   "source": [
    "df = pd.read_csv(\"prices.csv\")  # Import your prices file from your computer\n",
    "df = df[df.symbol == \"GOOG\"]\n",
    "\n",
    "forecast_col = 'close'\n",
    "forecast_out = 5\n",
    "test_size = 0.2"
   ]
  },
  {
   "cell_type": "code",
   "execution_count": null,
   "id": "470ae322",
   "metadata": {},
   "outputs": [],
   "source": [
    "# Applying for Stock Price Prediction\n",
    "# Split data to tarin and test\n",
    "# calling the method were the cross validation and data preperation is in\n",
    "X_train, X_test, Y_train, Y_test, X_lately = prepare_data(\n",
    "    df, forecast_col, forecast_out, test_size)\n",
    "learner = LinearRegression()  # initializing linear regression model\n",
    "learner.fit(X_train, Y_train)  # training the linear regression model"
   ]
  },
  {
   "cell_type": "code",
   "execution_count": null,
   "id": "257bea4d",
   "metadata": {},
   "outputs": [],
   "source": [
    "# Prdict or test\n",
    "score = learner.score(X_test, Y_test)  # testing the linear regression model\n",
    "# set that will contain the forecasted data\n",
    "forecast = learner.predict(X_lately)\n",
    "response = {}  # creting json object\n",
    "response['test_score'] = score\n",
    "response['forecast_set'] = forecast"
   ]
  },
  {
   "cell_type": "code",
   "execution_count": null,
   "id": "064a3fd6",
   "metadata": {},
   "outputs": [],
   "source": [
    "print(response)"
   ]
  }
 ],
 "metadata": {
  "kernelspec": {
   "display_name": "Python 3 (ipykernel)",
   "language": "python",
   "name": "python3"
  },
  "language_info": {
   "codemirror_mode": {
    "name": "ipython",
    "version": 3
   },
   "file_extension": ".py",
   "mimetype": "text/x-python",
   "name": "python",
   "nbconvert_exporter": "python",
   "pygments_lexer": "ipython3",
   "version": "3.9.12"
  }
 },
 "nbformat": 4,
 "nbformat_minor": 5
}
